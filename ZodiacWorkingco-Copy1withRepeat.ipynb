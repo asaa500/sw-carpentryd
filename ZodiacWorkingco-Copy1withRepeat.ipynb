{
 "cells": [
  {
   "cell_type": "code",
   "execution_count": null,
   "metadata": {
    "collapsed": false
   },
   "outputs": [
    {
     "name": "stdout",
     "output_type": "stream",
     "text": [
      "What year were you born? 9393\n",
      "Your Chinese Zodiac Animal is a Snake\n",
      "\n",
      "What year were you born? 1985\n",
      "Your Chinese Zodiac Animal is a Ox\n",
      "\n"
     ]
    }
   ],
   "source": [
    "# zodiacsteup will do all the opening, loading an closing of files/data\n",
    "def ZodiacSetup(): \n",
    "\n",
    "\n",
    "    # open the zodic descriptions file\n",
    "\n",
    "    ZodiacText = open('zodiacDescriptions.txt','r')\n",
    "    #for line in ZodiacText:\n",
    "    #print(line)\n",
    "    # Load the file. we are going to make a list with each line of the file\n",
    "    # as  a lsit item\n",
    "    ZodiacListTemp= []\n",
    "    for animal in ZodiacText:\n",
    "        if animal != '\\n':\n",
    "            ZodiacListTemp.append(animal)\n",
    "    # Close the file as soon we are done with it \n",
    "    ZodiacText.close()\n",
    "    return ZodiacListTemp \n",
    "#ZodiacCalaculation will collect a birth year and determine the chinese zodiac animal and then display it.\n",
    "def ZodaicCalculation():\n",
    "    # Ask the user for input\n",
    "    birthYear = input(\"What year were you born? \")\n",
    "    try:\n",
    "        birthYear = int(birthYear)\n",
    "    # Do some math\n",
    "    #john lied about the list and we have to figure out a way offest the mistake by substracting\n",
    "        zodiacIndex = (birthYear-4) % 12\n",
    "    # Tell user the result\n",
    "        print(\"Your Chinese Zodiac Animal is a\", ZodiacList[zodiacIndex])\n",
    "\n",
    "       \n",
    "    except ValueError:\n",
    "        print(\"put a year.\")\n",
    "    return birthYear\n",
    "\n",
    "\n",
    "# Repeat\n",
    "ZodiacList = ZodiacSetup()\n",
    "birthYear = 0\n",
    "while type(birthYear) is int :\n",
    "    birthYear = ZodaicCalculation()"
   ]
  },
  {
   "cell_type": "code",
   "execution_count": null,
   "metadata": {
    "collapsed": true
   },
   "outputs": [],
   "source": []
  },
  {
   "cell_type": "code",
   "execution_count": null,
   "metadata": {
    "collapsed": true
   },
   "outputs": [],
   "source": []
  },
  {
   "cell_type": "code",
   "execution_count": null,
   "metadata": {
    "collapsed": true
   },
   "outputs": [],
   "source": []
  },
  {
   "cell_type": "code",
   "execution_count": null,
   "metadata": {
    "collapsed": true
   },
   "outputs": [],
   "source": []
  }
 ],
 "metadata": {
  "kernelspec": {
   "display_name": "Python 3",
   "language": "python",
   "name": "python3"
  },
  "language_info": {
   "codemirror_mode": {
    "name": "ipython",
    "version": 3
   },
   "file_extension": ".py",
   "mimetype": "text/x-python",
   "name": "python",
   "nbconvert_exporter": "python",
   "pygments_lexer": "ipython3",
   "version": "3.4.3"
  }
 },
 "nbformat": 4,
 "nbformat_minor": 0
}
