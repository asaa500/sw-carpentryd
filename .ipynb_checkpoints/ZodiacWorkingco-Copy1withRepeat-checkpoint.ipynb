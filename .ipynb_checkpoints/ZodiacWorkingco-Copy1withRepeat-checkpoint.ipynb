{
 "cells": [
  {
   "cell_type": "code",
   "execution_count": 32,
   "metadata": {
    "collapsed": false
   },
   "outputs": [
    {
     "name": "stdout",
     "output_type": "stream",
     "text": [
      "What year were you born? jj\n",
      "put a year.\n"
     ]
    }
   ],
   "source": [
    "#Here we are going to plan the program.\n",
    "# open the zodic descriptions file\n",
    "\n",
    "ZodiacText = open('zodiacDescriptions.txt','r')\n",
    "#for line in ZodiacText:\n",
    "#print(line)\n",
    "# Load the file. we are going to make a list with each line of the file\n",
    "# as  a lsit item\n",
    "ZodiacList= []\n",
    "for animal in ZodiacText:\n",
    "    if animal != '\\n':\n",
    "        ZodiacList.append(animal)\n",
    "# Close the file as soon \n",
    "ZodiacText.close()\n",
    "    \n",
    "#print(ZodiacList)\n",
    "# Ask the user for input\n",
    "try:\n",
    "    birthYear = int(input(\"What year were you born? \"))\n",
    "# Do some math\n",
    "#john lied about the list and we have to figure out a way offest the mistake by substracting\n",
    "    zodiacIndex = (birthYear-4) % 12\n",
    "# Tell user the result\n",
    "    print(\"Your Chinese Zodiac Animal is a\", ZodiacList[zodiacIndex])\n",
    "\n",
    "       \n",
    "except ValueError:\n",
    "    print(\"put a year.\")\n",
    "#birthYear = 1983\n",
    "\n",
    "\n",
    "# Repeat\n"
   ]
  },
  {
   "cell_type": "code",
   "execution_count": null,
   "metadata": {
    "collapsed": true
   },
   "outputs": [],
   "source": []
  }
 ],
 "metadata": {
  "kernelspec": {
   "display_name": "Python 3",
   "language": "python",
   "name": "python3"
  },
  "language_info": {
   "codemirror_mode": {
    "name": "ipython",
    "version": 3
   },
   "file_extension": ".py",
   "mimetype": "text/x-python",
   "name": "python",
   "nbconvert_exporter": "python",
   "pygments_lexer": "ipython3",
   "version": "3.4.3"
  }
 },
 "nbformat": 4,
 "nbformat_minor": 0
}
